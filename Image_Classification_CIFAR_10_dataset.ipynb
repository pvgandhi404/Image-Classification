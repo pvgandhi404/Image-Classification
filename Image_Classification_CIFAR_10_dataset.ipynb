{
  "nbformat": 4,
  "nbformat_minor": 0,
  "metadata": {
    "colab": {
      "provenance": [],
      "toc_visible": true,
      "mount_file_id": "1Ar6Q5eedde7emYV5wosocjsCeIInP1ap",
      "authorship_tag": "ABX9TyMSvNuzxFmtx0fppWUMyqVN",
      "include_colab_link": true
    },
    "kernelspec": {
      "name": "python3",
      "display_name": "Python 3"
    },
    "language_info": {
      "name": "python"
    }
  },
  "cells": [
    {
      "cell_type": "markdown",
      "metadata": {
        "id": "view-in-github",
        "colab_type": "text"
      },
      "source": [
        "<a href=\"https://colab.research.google.com/github/pvgandhi404/Image-Classification/blob/main/Image_Classification_CIFAR_10_dataset.ipynb\" target=\"_parent\"><img src=\"https://colab.research.google.com/assets/colab-badge.svg\" alt=\"Open In Colab\"/></a>"
      ]
    },
    {
      "cell_type": "code",
      "execution_count": null,
      "metadata": {
        "id": "3lLPl_qZwQcC"
      },
      "outputs": [],
      "source": [
        "import tensorflow as tf\n",
        "from tensorflow.keras import datasets, layers, models\n",
        "import matplotlib.pyplot as plt\n",
        "import numpy as np\n",
        "from sklearn.metrics import confusion_matrix , classification_report\n",
        "import numpy as np"
      ]
    },
    {
      "cell_type": "code",
      "source": [
        "# x = image\n",
        "# y = associated classification\n",
        "\n",
        "(X_train, y_train), (X_test,y_test) = datasets.cifar10.load_data()\n",
        "X_train.shape"
      ],
      "metadata": {
        "colab": {
          "base_uri": "https://localhost:8080/"
        },
        "id": "EqrBMwIVwsiS",
        "outputId": "3e7fbbab-847a-46c9-f3df-6c061958b015"
      },
      "execution_count": null,
      "outputs": [
        {
          "output_type": "execute_result",
          "data": {
            "text/plain": [
              "(50000, 32, 32, 3)"
            ]
          },
          "metadata": {},
          "execution_count": 30
        }
      ]
    },
    {
      "cell_type": "code",
      "source": [
        "y_train = y_train.reshape(-1,)\n",
        "y_train[:5]"
      ],
      "metadata": {
        "colab": {
          "base_uri": "https://localhost:8080/"
        },
        "id": "VaeTwQRlw0BW",
        "outputId": "ca860b98-4c3f-486c-dbca-3e60da9d9e90"
      },
      "execution_count": null,
      "outputs": [
        {
          "output_type": "execute_result",
          "data": {
            "text/plain": [
              "array([6, 9, 9, 4, 1], dtype=uint8)"
            ]
          },
          "metadata": {},
          "execution_count": 31
        }
      ]
    },
    {
      "cell_type": "code",
      "source": [
        "y_test = y_test.reshape(-1,)"
      ],
      "metadata": {
        "id": "6gM1WEfnw17A"
      },
      "execution_count": null,
      "outputs": []
    },
    {
      "cell_type": "code",
      "source": [
        "classes = [\"airplane\",\"automobile\",\"bird\",\"cat\",\"deer\",\"dog\",\"frog\",\"horse\",\"ship\",\"truck\"]\n",
        "def plot_sample(X, y, index):\n",
        "    plt.figure(figsize = (15,2))\n",
        "    plt.imshow(X[index])\n",
        "    plt.xlabel(classes[y[index]])"
      ],
      "metadata": {
        "id": "gSc4x9wEw3cw"
      },
      "execution_count": null,
      "outputs": []
    },
    {
      "cell_type": "code",
      "source": [
        "# Normalize into rgb (max is 255)\n",
        "X_train = X_train / 255.0\n",
        "X_test = X_test / 255.0"
      ],
      "metadata": {
        "id": "BYna4yyTw7yM"
      },
      "execution_count": null,
      "outputs": []
    },
    {
      "cell_type": "code",
      "source": [
        "cnn = models.Sequential([\n",
        "    layers.Conv2D(filters=32, kernel_size=(3, 3), activation='relu', input_shape=(32, 32, 3)),\n",
        "    layers.MaxPooling2D((2, 2)),\n",
        "\n",
        "    layers.Conv2D(filters=64, kernel_size=(3, 3), activation='relu'),\n",
        "    layers.MaxPooling2D((2, 2)),\n",
        "\n",
        "    layers.Flatten(),\n",
        "    layers.Dense(64, activation='relu'),\n",
        "    layers.Dense(10, activation='softmax')\n",
        "])"
      ],
      "metadata": {
        "id": "X8dVO4XjxAE7"
      },
      "execution_count": null,
      "outputs": []
    },
    {
      "cell_type": "code",
      "source": [
        "cnn.compile(optimizer='adam',\n",
        "              loss='sparse_categorical_crossentropy',\n",
        "              metrics=['accuracy'])"
      ],
      "metadata": {
        "id": "ftfkZsO3xB9p"
      },
      "execution_count": null,
      "outputs": []
    },
    {
      "cell_type": "code",
      "source": [
        "cnn.fit(X_train, y_train, epochs=15)"
      ],
      "metadata": {
        "colab": {
          "base_uri": "https://localhost:8080/"
        },
        "id": "SmrmGTgFxD0g",
        "outputId": "504071e8-4de2-4c39-ed42-96eaf09b1846"
      },
      "execution_count": null,
      "outputs": [
        {
          "output_type": "stream",
          "name": "stdout",
          "text": [
            "Epoch 1/15\n",
            "1563/1563 [==============================] - 70s 45ms/step - loss: 1.2267 - accuracy: 0.5671\n",
            "Epoch 2/15\n",
            "1563/1563 [==============================] - 70s 45ms/step - loss: 1.0167 - accuracy: 0.6449\n",
            "Epoch 3/15\n",
            "1563/1563 [==============================] - 67s 43ms/step - loss: 0.9077 - accuracy: 0.6825\n",
            "Epoch 4/15\n",
            "1563/1563 [==============================] - 69s 44ms/step - loss: 0.8326 - accuracy: 0.7121\n",
            "Epoch 5/15\n",
            "1563/1563 [==============================] - 69s 44ms/step - loss: 0.7690 - accuracy: 0.7321\n",
            "Epoch 6/15\n",
            "1563/1563 [==============================] - 69s 44ms/step - loss: 0.7127 - accuracy: 0.7515\n",
            "Epoch 7/15\n",
            "1563/1563 [==============================] - 68s 44ms/step - loss: 0.6654 - accuracy: 0.7670\n",
            "Epoch 8/15\n",
            "1563/1563 [==============================] - 68s 43ms/step - loss: 0.6141 - accuracy: 0.7870\n",
            "Epoch 9/15\n",
            "1563/1563 [==============================] - 71s 45ms/step - loss: 0.5731 - accuracy: 0.7988\n",
            "Epoch 10/15\n",
            "1563/1563 [==============================] - 70s 44ms/step - loss: 0.5341 - accuracy: 0.8110\n",
            "Epoch 11/15\n",
            "1563/1563 [==============================] - 67s 43ms/step - loss: 0.4982 - accuracy: 0.8246\n",
            "Epoch 12/15\n",
            "1563/1563 [==============================] - 68s 43ms/step - loss: 0.4644 - accuracy: 0.8351\n",
            "Epoch 13/15\n",
            "1563/1563 [==============================] - 70s 44ms/step - loss: 0.4285 - accuracy: 0.8460\n",
            "Epoch 14/15\n",
            "1563/1563 [==============================] - 69s 44ms/step - loss: 0.3973 - accuracy: 0.8604\n",
            "Epoch 15/15\n",
            "1563/1563 [==============================] - 68s 44ms/step - loss: 0.3673 - accuracy: 0.8699\n"
          ]
        },
        {
          "output_type": "execute_result",
          "data": {
            "text/plain": [
              "<keras.src.callbacks.History at 0x7ab3b66dce20>"
            ]
          },
          "metadata": {},
          "execution_count": 38
        }
      ]
    },
    {
      "cell_type": "code",
      "source": [
        "cnn.evaluate(X_test,y_test)"
      ],
      "metadata": {
        "colab": {
          "base_uri": "https://localhost:8080/"
        },
        "id": "5GMS4RVUxFiv",
        "outputId": "d10f28fc-b4f1-4460-c41b-b8bb1e8aa5f7"
      },
      "execution_count": null,
      "outputs": [
        {
          "output_type": "stream",
          "name": "stdout",
          "text": [
            "313/313 [==============================] - 5s 15ms/step - loss: 1.1372 - accuracy: 0.6860\n"
          ]
        },
        {
          "output_type": "execute_result",
          "data": {
            "text/plain": [
              "[1.1372051239013672, 0.6859999895095825]"
            ]
          },
          "metadata": {},
          "execution_count": 39
        }
      ]
    },
    {
      "cell_type": "code",
      "source": [
        "y_pred = cnn.predict(X_test)\n",
        "y_pred[:5]\n",
        "\n",
        "for i in range(0, 5):\n",
        "  print(np.argmax(y_pred[i]))\n",
        "  print(y_test[i])"
      ],
      "metadata": {
        "colab": {
          "base_uri": "https://localhost:8080/"
        },
        "id": "5VqXMmRwxHUE",
        "outputId": "8741d232-7f52-4762-8fff-e34f2c512e5b"
      },
      "execution_count": null,
      "outputs": [
        {
          "output_type": "stream",
          "name": "stdout",
          "text": [
            "313/313 [==============================] - 4s 13ms/step\n",
            "3\n",
            "3\n",
            "8\n",
            "8\n",
            "8\n",
            "8\n",
            "0\n",
            "0\n",
            "6\n",
            "6\n"
          ]
        }
      ]
    },
    {
      "cell_type": "code",
      "source": [
        "y_classes = [np.argmax(element) for element in y_pred]\n",
        "y_classes[:5]"
      ],
      "metadata": {
        "colab": {
          "base_uri": "https://localhost:8080/"
        },
        "id": "Ln4ivQ7RxJOW",
        "outputId": "5d777fb4-d174-4284-eb8f-be6a04b942e6"
      },
      "execution_count": null,
      "outputs": [
        {
          "output_type": "execute_result",
          "data": {
            "text/plain": [
              "[3, 8, 8, 0, 6]"
            ]
          },
          "metadata": {},
          "execution_count": 42
        }
      ]
    },
    {
      "cell_type": "code",
      "source": [
        "y_test[:5]"
      ],
      "metadata": {
        "colab": {
          "base_uri": "https://localhost:8080/"
        },
        "id": "Ze3zzNyIxLOX",
        "outputId": "b6f3f368-985d-43b6-fe1e-f3e743c964dc"
      },
      "execution_count": null,
      "outputs": [
        {
          "output_type": "execute_result",
          "data": {
            "text/plain": [
              "array([3, 8, 8, 0, 6], dtype=uint8)"
            ]
          },
          "metadata": {},
          "execution_count": 43
        }
      ]
    },
    {
      "cell_type": "code",
      "source": [
        "cnn.save(\"/content/drive/MyDrive/Machine Learning Code/Computer Vision/Rand Stuff/og_animal_15epoch\")"
      ],
      "metadata": {
        "id": "O9kLIrOixR2Q"
      },
      "execution_count": null,
      "outputs": []
    },
    {
      "cell_type": "code",
      "source": [
        "model = tf.keras.models.load_model(\"/content/drive/MyDrive/Machine Learning Code/Computer Vision/Rand Stuff/og_animal_15epoch\")"
      ],
      "metadata": {
        "id": "kkYn5PoDS9J6"
      },
      "execution_count": null,
      "outputs": []
    },
    {
      "cell_type": "code",
      "source": [
        "deertest = open(\"/content/deer6.png\", 'rb')\n",
        "\n",
        "\n",
        "import matplotlib.pyplot as plt\n",
        "deer = plt.imread(deertest)\n",
        "\n",
        "deer = deer / 255.0\n",
        "\n",
        "print(deer)\n",
        "\n",
        "deer.reshape(-1)\n",
        "\n",
        "model.predict(deer)"
      ],
      "metadata": {
        "id": "TfXvuRelTnGt"
      },
      "execution_count": null,
      "outputs": []
    }
  ]
}